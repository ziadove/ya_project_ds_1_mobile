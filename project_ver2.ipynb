{
 "cells": [
  {
   "cell_type": "markdown",
   "id": "51ca716e",
   "metadata": {},
   "source": [
    "# Описание проекта"
   ]
  },
  {
   "cell_type": "markdown",
   "id": "7089ad95",
   "metadata": {},
   "source": [
    "Оператор мобильной связи «Мегалайн» выяснил: многие клиенты пользуются архивными тарифами. Они хотят построить систему, способную проанализировать поведение клиентов и предложить пользователям новый тариф: «Смарт» или «Ультра».\n",
    "В вашем распоряжении данные о поведении клиентов, которые уже перешли на эти тарифы. Нужно построить модель для задачи классификации, которая выберет подходящий тариф. \n",
    "\n",
    "Предобработка данных не понадобится.\n",
    "\n",
    "\n",
    "Постройте модель с максимально большим значением accuracy. Чтобы сдать проект успешно, нужно довести долю правильных ответов по крайней мере до 0.75. Проверьте accuracy на тестовой выборке самостоятельно."
   ]
  },
  {
   "cell_type": "markdown",
   "id": "dfa1d8c0",
   "metadata": {},
   "source": [
    "# Описание данных"
   ]
  },
  {
   "cell_type": "markdown",
   "id": "60212a89",
   "metadata": {},
   "source": [
    "Каждый объект в наборе данных — это информация о поведении одного пользователя за месяц. \n",
    "\n",
    "Известно:\n",
    "- сalls — количество звонков,\n",
    "- minutes — суммарная длительность звонков в минутах,\n",
    "- messages — количество sms-сообщений,\n",
    "- mb_used — израсходованный интернет-трафик в Мб,\n",
    "- is_ultra — каким тарифом пользовался в течение месяца («Ультра» — 1, «Смарт» — 0)."
   ]
  },
  {
   "cell_type": "markdown",
   "id": "90e20d2d",
   "metadata": {},
   "source": [
    "<b>Инструкция по выполнению проекта</b>\n",
    "\n",
    "1. Откройте файл с данными и изучите его. Путь к файлу: /datasets/users_behavior.csv. Скачать датасет\n",
    "2. Разделите исходные данные на обучающую, валидационную и тестовую выборки.\n",
    "3. Исследуйте качество разных моделей, меняя гиперпараметры. Кратко напишите выводы исследования.\n",
    "4. Проверьте качество модели на тестовой выборке.\n",
    "5. Дополнительное задание: проверьте модели на вменяемость. Ничего страшного, если не получится: эти данные сложнее тех, с которыми вы работали раньше. В следующем курсе подробнее об этом расскажем."
   ]
  },
  {
   "cell_type": "markdown",
   "id": "db1fd2ab",
   "metadata": {},
   "source": [
    "## Ход работы:\n",
    "1. [Загрузка данных](#import)\n",
    "2. [Разделим исходные данные на обучающую, валидационную и тестовую выборки](#separation)\n",
    "3. [Исследуем качество разных моделей](#model):\n",
    "- [Decision Tree](#tree);\n",
    "- [Random Forest](#forest);\n",
    "- [Logistic Regression](#logistic);\n",
    "4. [Проверьте качество модели на тестовой выборке](#test)\n",
    "5. [Проверка модели на вменяемость](#sanity)\n",
    "6. [Вывод](#conclusion)"
   ]
  },
  {
   "cell_type": "markdown",
   "id": "c09a6197",
   "metadata": {},
   "source": [
    "<a id=\"import\"> </a>\n",
    "# 1. Загрузка данных."
   ]
  },
  {
   "cell_type": "code",
   "execution_count": 48,
   "id": "7a53de9c",
   "metadata": {},
   "outputs": [],
   "source": [
    "# импорт библиотек\n",
    "\n",
    "import pandas as pd\n",
    "import numpy as np\n",
    "\n",
    "from sklearn.tree import DecisionTreeClassifier\n",
    "from sklearn.ensemble import RandomForestClassifier\n",
    "from sklearn.linear_model import LogisticRegression \n",
    "\n",
    "from sklearn.model_selection import train_test_split\n",
    "\n",
    "from sklearn.metrics import accuracy_score\n",
    "from sklearn.metrics import mean_squared_error\n",
    "from sklearn.metrics import precision_score\n",
    "from sklearn.metrics import recall_score"
   ]
  },
  {
   "cell_type": "code",
   "execution_count": 2,
   "id": "bae7b75d",
   "metadata": {},
   "outputs": [],
   "source": [
    "data = pd.read_csv('users_behavior.csv')"
   ]
  },
  {
   "cell_type": "code",
   "execution_count": 3,
   "id": "f4f3c47a",
   "metadata": {},
   "outputs": [
    {
     "data": {
      "text/html": [
       "<div>\n",
       "<style scoped>\n",
       "    .dataframe tbody tr th:only-of-type {\n",
       "        vertical-align: middle;\n",
       "    }\n",
       "\n",
       "    .dataframe tbody tr th {\n",
       "        vertical-align: top;\n",
       "    }\n",
       "\n",
       "    .dataframe thead th {\n",
       "        text-align: right;\n",
       "    }\n",
       "</style>\n",
       "<table border=\"1\" class=\"dataframe\">\n",
       "  <thead>\n",
       "    <tr style=\"text-align: right;\">\n",
       "      <th></th>\n",
       "      <th>calls</th>\n",
       "      <th>minutes</th>\n",
       "      <th>messages</th>\n",
       "      <th>mb_used</th>\n",
       "      <th>is_ultra</th>\n",
       "    </tr>\n",
       "  </thead>\n",
       "  <tbody>\n",
       "    <tr>\n",
       "      <th>0</th>\n",
       "      <td>40.0</td>\n",
       "      <td>311.90</td>\n",
       "      <td>83.0</td>\n",
       "      <td>19915.42</td>\n",
       "      <td>0</td>\n",
       "    </tr>\n",
       "    <tr>\n",
       "      <th>1</th>\n",
       "      <td>85.0</td>\n",
       "      <td>516.75</td>\n",
       "      <td>56.0</td>\n",
       "      <td>22696.96</td>\n",
       "      <td>0</td>\n",
       "    </tr>\n",
       "    <tr>\n",
       "      <th>2</th>\n",
       "      <td>77.0</td>\n",
       "      <td>467.66</td>\n",
       "      <td>86.0</td>\n",
       "      <td>21060.45</td>\n",
       "      <td>0</td>\n",
       "    </tr>\n",
       "    <tr>\n",
       "      <th>3</th>\n",
       "      <td>106.0</td>\n",
       "      <td>745.53</td>\n",
       "      <td>81.0</td>\n",
       "      <td>8437.39</td>\n",
       "      <td>1</td>\n",
       "    </tr>\n",
       "    <tr>\n",
       "      <th>4</th>\n",
       "      <td>66.0</td>\n",
       "      <td>418.74</td>\n",
       "      <td>1.0</td>\n",
       "      <td>14502.75</td>\n",
       "      <td>0</td>\n",
       "    </tr>\n",
       "  </tbody>\n",
       "</table>\n",
       "</div>"
      ],
      "text/plain": [
       "   calls  minutes  messages   mb_used  is_ultra\n",
       "0   40.0   311.90      83.0  19915.42         0\n",
       "1   85.0   516.75      56.0  22696.96         0\n",
       "2   77.0   467.66      86.0  21060.45         0\n",
       "3  106.0   745.53      81.0   8437.39         1\n",
       "4   66.0   418.74       1.0  14502.75         0"
      ]
     },
     "execution_count": 3,
     "metadata": {},
     "output_type": "execute_result"
    }
   ],
   "source": [
    "data.head(5)"
   ]
  },
  {
   "cell_type": "code",
   "execution_count": 4,
   "id": "4c5a0807",
   "metadata": {},
   "outputs": [
    {
     "name": "stdout",
     "output_type": "stream",
     "text": [
      "<class 'pandas.core.frame.DataFrame'>\n",
      "RangeIndex: 3214 entries, 0 to 3213\n",
      "Data columns (total 5 columns):\n",
      " #   Column    Non-Null Count  Dtype  \n",
      "---  ------    --------------  -----  \n",
      " 0   calls     3214 non-null   float64\n",
      " 1   minutes   3214 non-null   float64\n",
      " 2   messages  3214 non-null   float64\n",
      " 3   mb_used   3214 non-null   float64\n",
      " 4   is_ultra  3214 non-null   int64  \n",
      "dtypes: float64(4), int64(1)\n",
      "memory usage: 125.7 KB\n"
     ]
    }
   ],
   "source": [
    "data.info()"
   ]
  },
  {
   "cell_type": "code",
   "execution_count": 6,
   "id": "cc36c199",
   "metadata": {},
   "outputs": [
    {
     "name": "stdout",
     "output_type": "stream",
     "text": [
      "0\n"
     ]
    }
   ],
   "source": [
    "# Проведем подсчет и удаление явных дубликатов\n",
    "\n",
    "print(data.duplicated().sum())\n",
    "data = data.drop_duplicates()"
   ]
  },
  {
   "cell_type": "markdown",
   "id": "b0e2b6d7",
   "metadata": {},
   "source": [
    "Размер датасета - (3214, 5), пропущенных значений нет, явных дубликатов - нет.\n",
    "\n",
    "Целевая переменная - столбец 'is_ultra'."
   ]
  },
  {
   "cell_type": "markdown",
   "id": "0a854af0",
   "metadata": {},
   "source": [
    "<a id=\"separation\"> </a>\n",
    "# 2. Разделим исходные данные на обучающую, валидационную и тестовую выборки."
   ]
  },
  {
   "cell_type": "code",
   "execution_count": 7,
   "id": "9a79fc8e",
   "metadata": {},
   "outputs": [],
   "source": [
    "features = data.drop(['is_ultra'], axis=1)\n",
    "target = data['is_ultra']"
   ]
  },
  {
   "cell_type": "code",
   "execution_count": 8,
   "id": "8e01cd7f",
   "metadata": {},
   "outputs": [],
   "source": [
    "features_train, features_test, target_train, target_test = train_test_split(features, target, test_size=0.4, \n",
    "                                                                              random_state=12345) "
   ]
  },
  {
   "cell_type": "code",
   "execution_count": 10,
   "id": "cf59ad5e",
   "metadata": {},
   "outputs": [],
   "source": [
    "features_valid, features_test, target_valid, target_test = train_test_split(features_test, target_test, test_size=0.5, \n",
    "                                                                              random_state=12345) "
   ]
  },
  {
   "cell_type": "code",
   "execution_count": 11,
   "id": "3c738361",
   "metadata": {},
   "outputs": [
    {
     "name": "stdout",
     "output_type": "stream",
     "text": [
      "Исходный размер датасета: 3214\n",
      "Размер обучающей выборки: 1928\n",
      "Размер валидационной выборки: 643\n",
      "Размер тестовой выборки: 643\n"
     ]
    }
   ],
   "source": [
    "print(f'Исходный размер датасета: {data.shape[0]}')\n",
    "print(f'Размер обучающей выборки: {features_train.shape[0]}')\n",
    "print(f'Размер валидационной выборки: {features_valid.shape[0]}')\n",
    "print(f'Размер тестовой выборки: {features_test.shape[0]}')"
   ]
  },
  {
   "cell_type": "markdown",
   "id": "32a8aaaf",
   "metadata": {},
   "source": [
    "Соотношение обучающей, валидационной и тестовой выборки - 3:1:1."
   ]
  },
  {
   "cell_type": "markdown",
   "id": "aa285c81",
   "metadata": {},
   "source": [
    "<a id=\"model\"> </a>\n",
    "# 3. Исследуем качество разных моделей. "
   ]
  },
  {
   "cell_type": "markdown",
   "id": "cbe0604c",
   "metadata": {},
   "source": [
    "Перед нами стоит задача бинарной классификации.\n",
    "\n",
    "Для исследования были выбраны модели:\n",
    "- Decision Tree,\n",
    "- Random Forest,\n",
    "- и Logistic Regression."
   ]
  },
  {
   "cell_type": "markdown",
   "id": "975a960d",
   "metadata": {},
   "source": [
    "<a id=\"tree\"> </a> \n",
    "# 3.1. Decision Tree"
   ]
  },
  {
   "cell_type": "code",
   "execution_count": 12,
   "id": "e2fc55c1",
   "metadata": {},
   "outputs": [],
   "source": [
    "best_dt_model = None\n",
    "best_dt_params = []\n",
    "best_dt_result = 0"
   ]
  },
  {
   "cell_type": "code",
   "execution_count": 18,
   "id": "157008e0",
   "metadata": {},
   "outputs": [
    {
     "name": "stdout",
     "output_type": "stream",
     "text": [
      "Wall time: 13.5 s\n"
     ]
    }
   ],
   "source": [
    "%%time\n",
    "\n",
    "for depth in range(1, 10):\n",
    "    for samples_split in range(2, 10):\n",
    "        for samples_leaf in range(1, 10):\n",
    "            for crit in ['gini', 'entropy']:\n",
    "                dt_tree = DecisionTreeClassifier(random_state=12345, \n",
    "                                                 max_depth=depth, \n",
    "                                                 criterion=crit,\n",
    "                                                 min_samples_split=samples_split, \n",
    "                                                 min_samples_leaf=samples_leaf)\n",
    "                dt_tree.fit(features_train, target_train)\n",
    "                predictions = dt_tree.predict(features_train)\n",
    "                predictions_valid = dt_tree.predict(features_valid)\n",
    "                result = dt_tree.score(features_valid, target_valid)\n",
    "\n",
    "                if result > best_dt_result:\n",
    "                    best_dt_model = dt_tree\n",
    "                    best_dt_result = result\n",
    "                    best_dt_params = [depth, crit, samples_split, samples_leaf]"
   ]
  },
  {
   "cell_type": "code",
   "execution_count": 19,
   "id": "1235aa1e",
   "metadata": {},
   "outputs": [
    {
     "name": "stdout",
     "output_type": "stream",
     "text": [
      "Accuracy наилучшей модели на валидационной выборке: 0.7900466562986003\n",
      "max_depth: 6\n",
      "criterion: entropy\n",
      "min_samples_split: 2\n",
      "min_samples_leaf:  4\n"
     ]
    }
   ],
   "source": [
    "print(f'Accuracy наилучшей модели на валидационной выборке: {best_dt_result}',\n",
    "      f'max_depth: {best_dt_params[0]}',\n",
    "      f'criterion: {best_dt_params[1]}',\n",
    "      f'min_samples_split: {best_dt_params[2]}',\n",
    "      f'min_samples_leaf:  {best_dt_params[3]}', sep='\\n')  "
   ]
  },
  {
   "cell_type": "markdown",
   "id": "aad720f0",
   "metadata": {},
   "source": [
    "<a id=\"forest\"> </a>\n",
    "# 3.2. Random Forest"
   ]
  },
  {
   "cell_type": "code",
   "execution_count": 14,
   "id": "a291303f",
   "metadata": {},
   "outputs": [],
   "source": [
    "best_rf_model = None\n",
    "best_rf_result = 0\n",
    "best_rf_params = []"
   ]
  },
  {
   "cell_type": "code",
   "execution_count": 22,
   "id": "2110f9dc",
   "metadata": {},
   "outputs": [
    {
     "name": "stdout",
     "output_type": "stream",
     "text": [
      "Wall time: 4min 14s\n"
     ]
    }
   ],
   "source": [
    "%%time\n",
    "\n",
    "for est in range(1, 10):\n",
    "    for depth in range(1, 10):\n",
    "        for samples_split in range(2, 10):\n",
    "            for samples_leaf in range(1, 10):\n",
    "                for crit in ['gini', 'entropy']:\n",
    "                    r_forest = RandomForestClassifier(random_state=12345,\n",
    "                                                      n_estimators=est,\n",
    "                                                      max_depth=depth,\n",
    "                                                      criterion=crit,\n",
    "                                                      min_samples_split=samples_split,\n",
    "                                                      min_samples_leaf=samples_leaf)\n",
    "                    r_forest.fit(features_train, target_train)\n",
    "                    predictions = r_forest.predict(features_train)\n",
    "                    predictions_valid = r_forest.predict(features_valid)\n",
    "                    result = r_forest.score(features_valid, target_valid)\n",
    "    \n",
    "                    if result > best_rf_result:\n",
    "                        best_rf_model = r_forest\n",
    "                        best_rf_result = result\n",
    "                        best_rf_params = [est, depth, crit, samples_split, samples_leaf]"
   ]
  },
  {
   "cell_type": "code",
   "execution_count": 23,
   "id": "5c5a2399",
   "metadata": {},
   "outputs": [
    {
     "name": "stdout",
     "output_type": "stream",
     "text": [
      "Accuracy наилучшей модели на валидационной выборке: 0.8118195956454122\n",
      "n_estimators: 8\n",
      "max_depth: 10\n",
      "criterion: gini\n",
      "min_samples_split: 5\n",
      "min_samples_leaf:  2\n"
     ]
    }
   ],
   "source": [
    "print(f'Accuracy наилучшей модели на валидационной выборке: {best_rf_result}',\n",
    "      f'n_estimators: {best_rf_params[0]}',\n",
    "      f'max_depth: {best_rf_params[1]}',\n",
    "      f'criterion: {best_rf_params[2]}',\n",
    "      f'min_samples_split: {best_rf_params[3]}',\n",
    "      f'min_samples_leaf:  {best_rf_params[4]}', sep='\\n')  "
   ]
  },
  {
   "cell_type": "markdown",
   "id": "c9031a4c",
   "metadata": {},
   "source": [
    "<a id=\"logistic\"> </a>\n",
    "# 3.3. Logistic Regression"
   ]
  },
  {
   "cell_type": "code",
   "execution_count": 42,
   "id": "185f9293",
   "metadata": {},
   "outputs": [
    {
     "name": "stdout",
     "output_type": "stream",
     "text": [
      "Accuracy модели на валидационной выборке: 0.7573872472783826\n",
      "Wall time: 19.9 ms\n"
     ]
    }
   ],
   "source": [
    "%%time\n",
    "\n",
    "lr_model = LogisticRegression(random_state=12345, solver='liblinear', max_iter=100) \n",
    "lr_model.fit(features_train, target_train)\n",
    "lr_predictions = lr_model.predict(features_train)\n",
    "lr_predictions_valid = lr_model.predict(features_valid)\n",
    "\n",
    "lr_result = lr_model.score(features_valid, target_valid)\n",
    "print(f'Accuracy модели на валидационной выборке: {lr_result}')"
   ]
  },
  {
   "cell_type": "markdown",
   "id": "418ffcf4",
   "metadata": {},
   "source": [
    "Наилучшее значение accuracy показала модель RandomForest. Главный минус модели - продолжительность обучения."
   ]
  },
  {
   "cell_type": "markdown",
   "id": "634868de",
   "metadata": {},
   "source": [
    "<a id=\"test\"> </a>\n",
    "# 4. Проверьте качество модели на тестовой выборке."
   ]
  },
  {
   "cell_type": "markdown",
   "id": "87e04560",
   "metadata": {},
   "source": [
    "Лучшие результаты показаласа модель RandomForestClassifier с параметрами:\n",
    "- n_estimators=8, \n",
    "- max_depth=10, \n",
    "- criterion='gini',\n",
    "- min_samples_split=5,\n",
    "- min_samples_leaf=2.\n",
    "\n",
    "\n",
    "Точность составила 0.8118195956454122.\n",
    "\n",
    "Обучим модель с этими параметрами на тестовой выборке."
   ]
  },
  {
   "cell_type": "code",
   "execution_count": 29,
   "id": "f3416c3b",
   "metadata": {},
   "outputs": [
    {
     "name": "stdout",
     "output_type": "stream",
     "text": [
      "Точность модели на тестовой выборке: 0.7978227060653188\n"
     ]
    }
   ],
   "source": [
    "model = RandomForestClassifier(random_state=12345, n_estimators=8, max_depth=10, criterion='gini',\n",
    "                          min_samples_split=5, min_samples_leaf=2)\n",
    "\n",
    "model.fit(features_train, target_train)\n",
    "model_predictions = model.predict(features_test)\n",
    "model_accuracy = accuracy_score(target_test, model_predictions)\n",
    "\n",
    "print(f'Точность модели на тестовой выборке: {model_accuracy}')"
   ]
  },
  {
   "cell_type": "markdown",
   "id": "9e6835bc",
   "metadata": {},
   "source": [
    "Точность на валидационной выборке и тестовой практически совпадают - 81% и 79.8%. "
   ]
  },
  {
   "cell_type": "markdown",
   "id": "d8ee6a9e",
   "metadata": {},
   "source": [
    "<a id=\"sanity\"> </a>\n",
    "# 5. Проверка модели на вменяемость"
   ]
  },
  {
   "cell_type": "code",
   "execution_count": 30,
   "id": "5575fb79",
   "metadata": {},
   "outputs": [
    {
     "data": {
      "text/plain": [
       "0    2229\n",
       "1     985\n",
       "Name: is_ultra, dtype: int64"
      ]
     },
     "execution_count": 30,
     "metadata": {},
     "output_type": "execute_result"
    }
   ],
   "source": [
    "target.value_counts()"
   ]
  },
  {
   "cell_type": "markdown",
   "id": "014e0559",
   "metadata": {},
   "source": [
    "Имеющийся признак несбалансирован - объектов класса \"0\" в 2.3 раза больше, чем объектов класса \"1\"."
   ]
  },
  {
   "cell_type": "code",
   "execution_count": 60,
   "id": "d0378f0a",
   "metadata": {},
   "outputs": [],
   "source": [
    "# Создаим константную модель: любому объекту она прогнозирует класс «0»\n",
    "\n",
    "const = np.zeros(target_test.shape[0])\n",
    "target_pred_constant = pd.Series(const)"
   ]
  },
  {
   "cell_type": "code",
   "execution_count": 61,
   "id": "001fb5ed",
   "metadata": {
    "scrolled": true
   },
   "outputs": [
    {
     "data": {
      "text/plain": [
       "0.6842923794712286"
      ]
     },
     "execution_count": 61,
     "metadata": {},
     "output_type": "execute_result"
    }
   ],
   "source": [
    "accuracy_score(target_test, target_pred_constant)"
   ]
  },
  {
   "cell_type": "markdown",
   "id": "d1c93513",
   "metadata": {},
   "source": [
    "Accuracy константной модели - 68%.\n",
    "\n",
    "Модель проверку на вменяемость прошла (?)"
   ]
  },
  {
   "cell_type": "markdown",
   "id": "ad440623",
   "metadata": {},
   "source": [
    "<a id=\"conclusion\"> </a>\n",
    "# 6. Вывод."
   ]
  },
  {
   "cell_type": "markdown",
   "id": "50f673b2",
   "metadata": {},
   "source": [
    "Размер датасета - (3214, 5), пропущенных значений нет, явных дубликатов - нет. Целевая переменная - столбец 'is_ultra'.\n",
    "\n",
    "Мы разделили имеющийся датасет на обучающую, валидационную и тестовую выборки в соотношении 3:1:1. В обучающую выборку вошло 1928 объектов, в валидационную и тестовую - по 643 объекта.\n",
    "\n",
    "Перед нами стояла задача бинарной классификации.\n",
    "Для исследования были выбраны модели:\n",
    "- Decision Tree,\n",
    "- Random Forest,\n",
    "- и Logistic Regression.\n",
    "\n",
    "Наилучшее значение accuracy показала модель Random Forest (81%), ее мы будем в дальнейшем использовать. Главный минус - временные затраты: обучение модели и подбор параметров заняли 4 минуты 20 секунд, обучение остальных моделей - 15-20 секунд.\n",
    "\n",
    "Модели Decision Tree и Logistic Regression показали точность в 79% и 75%, соответственно.\n",
    "\n",
    "Мы проверили качество модели на тестовой выборке - точность на валидационной выборке и тестовой практически совпадают - 81% и 79.8%."
   ]
  }
 ],
 "metadata": {
  "kernelspec": {
   "display_name": "Python 3",
   "language": "python",
   "name": "python3"
  },
  "language_info": {
   "codemirror_mode": {
    "name": "ipython",
    "version": 3
   },
   "file_extension": ".py",
   "mimetype": "text/x-python",
   "name": "python",
   "nbconvert_exporter": "python",
   "pygments_lexer": "ipython3",
   "version": "3.8.8"
  }
 },
 "nbformat": 4,
 "nbformat_minor": 5
}
